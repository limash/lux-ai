{
 "cells": [
  {
   "cell_type": "markdown",
   "metadata": {},
   "source": [
    "# Simulations Episode Scraper Match Downloader"
   ]
  },
  {
   "cell_type": "code",
   "execution_count": null,
   "metadata": {
    "_cell_guid": "b1076dfc-b9ad-4769-8c92-a6c4dae69d19",
    "_kg_hide-input": true,
    "_kg_hide-output": true,
    "_uuid": "8f2839f25d086af736a60e9eeb907d3b93b6e0e5"
   },
   "outputs": [],
   "source": [
    "import pandas as pd\n",
    "import numpy as np\n",
    "import os\n",
    "import requests\n",
    "import json\n",
    "import datetime\n",
    "import time\n",
    "import glob\n",
    "import collections"
   ]
  },
  {
   "cell_type": "code",
   "execution_count": null,
   "metadata": {},
   "outputs": [],
   "source": [
    "## You should configure these to your needs. Choose one of ...\n",
    "# 'hungry-geese', 'rock-paper-scissors', santa-2020', 'halite', 'google-football'\n",
    "COMP = 'lux-ai-2021'\n",
    "MAX_CALLS_PER_DAY = 3000 # Kaggle says don't do more than 3600 per day and 1 per second\n",
    "LOWEST_SCORE_THRESH = 1490"
   ]
  },
  {
   "cell_type": "code",
   "execution_count": null,
   "metadata": {
    "_kg_hide-input": true,
    "_kg_hide-output": true,
    "tags": []
   },
   "outputs": [],
   "source": [
    "# ROOT =\"../working/\"\n",
    "META = \"./data/meta_kaggle/\"\n",
    "MATCH_DIR = './data/jsons/'\n",
    "base_url = \"https://www.kaggle.com/requests/EpisodeService/\"\n",
    "get_url = base_url + \"GetEpisodeReplay\"\n",
    "BUFFER = 1\n",
    "COMPETITIONS = {\n",
    "    'lux-ai-2021': 30067,\n",
    "    'hungry-geese': 25401,\n",
    "    'rock-paper-scissors': 22838,\n",
    "    'santa-2020': 24539,\n",
    "    'halite': 18011,\n",
    "    'google-football': 21723\n",
    "}"
   ]
  },
  {
   "cell_type": "code",
   "execution_count": null,
   "metadata": {
    "tags": []
   },
   "outputs": [],
   "source": [
    "# Load Episodes\n",
    "episodes_df = pd.read_csv(META + \"Episodes.csv\")\n",
    "print(f'Episodes.csv: {len(episodes_df)} rows before filtering.')\n",
    "episodes_df = episodes_df[episodes_df.CompetitionId == COMPETITIONS[COMP]]\n",
    "print(f'Episodes.csv: {len(episodes_df)} rows after filtering for {COMP}.')"
   ]
  },
  {
   "cell_type": "code",
   "execution_count": null,
   "metadata": {},
   "outputs": [],
   "source": [
    "chunksize = 10 ** 6\n",
    "filename = META + \"EpisodeAgents.csv\"\n",
    "ds_chunks = []\n",
    "with pd.read_csv(filename, chunksize=chunksize) as reader:\n",
    "    for chunk in reader:\n",
    "        ds_chunks.append(chunk[chunk.EpisodeId.isin(episodes_df.Id)])"
   ]
  },
  {
   "cell_type": "code",
   "execution_count": null,
   "metadata": {},
   "outputs": [],
   "source": [
    "epagents_df = pd.concat(ds_chunks, axis=0)\n",
    "print(f'EpisodeAgents.csv: {len(epagents_df)} rows after filtering for {COMP}.')"
   ]
  },
  {
   "cell_type": "code",
   "execution_count": null,
   "metadata": {
    "tags": []
   },
   "outputs": [],
   "source": [
    "# Prepare dataframes\n",
    "episodes_df = episodes_df.set_index(['Id'])\n",
    "episodes_df['CreateTime'] = pd.to_datetime(episodes_df['CreateTime'])\n",
    "episodes_df['EndTime'] = pd.to_datetime(episodes_df['EndTime'])\n",
    "\n",
    "epagents_df.fillna(0, inplace=True)\n",
    "epagents_df = epagents_df.sort_values(by=['Id'], ascending=False)"
   ]
  },
  {
   "cell_type": "code",
   "execution_count": null,
   "metadata": {
    "_kg_hide-input": true,
    "tags": []
   },
   "outputs": [],
   "source": [
    "# Get top scoring submissions# Get top scoring submissions\n",
    "max_df = (epagents_df.sort_values(by=['EpisodeId'], ascending=False).groupby('SubmissionId').head(1).drop_duplicates().reset_index(drop=True))\n",
    "max_df = max_df[max_df.UpdatedScore>=LOWEST_SCORE_THRESH]\n",
    "max_df = pd.merge(left=episodes_df, right=max_df, left_on='Id', right_on='EpisodeId')\n",
    "sub_to_score_top = pd.Series(max_df.UpdatedScore.values,index=max_df.SubmissionId).to_dict()\n",
    "print(f'{len(sub_to_score_top)} submissions with score over {LOWEST_SCORE_THRESH}')"
   ]
  },
  {
   "cell_type": "code",
   "execution_count": null,
   "metadata": {
    "_kg_hide-input": true,
    "tags": []
   },
   "outputs": [],
   "source": [
    "# Get episodes for these submissions\n",
    "sub_to_episodes = collections.defaultdict(list)\n",
    "for key, value in sorted(sub_to_score_top.items(), key=lambda kv: kv[1], reverse=True):\n",
    "    eps = sorted(epagents_df[epagents_df['SubmissionId'].isin([key])]['EpisodeId'].values,reverse=True)\n",
    "    sub_to_episodes[key] = eps\n",
    "candidates = len(set([item for sublist in sub_to_episodes.values() for item in sublist]))\n",
    "print(f'{candidates} episodes for these {len(sub_to_score_top)} submissions')"
   ]
  },
  {
   "cell_type": "code",
   "execution_count": null,
   "metadata": {
    "_kg_hide-input": true,
    "tags": []
   },
   "outputs": [],
   "source": [
    "global num_api_calls_today\n",
    "num_api_calls_today = 0\n",
    "all_files = []\n",
    "for root, dirs, files in os.walk(MATCH_DIR, topdown=False):\n",
    "    all_files.extend(files)\n",
    "seen_episodes = [int(f.split('.')[0]) for f in all_files \n",
    "                      if '.' in f and f.split('.')[0].isdigit() and f.split('.')[1] == 'json']\n",
    "remaining = np.setdiff1d([item for sublist in sub_to_episodes.values() for item in sublist],seen_episodes)\n",
    "print(f'{len(remaining)} of these {candidates} episodes not yet saved')\n",
    "print('Total of {} games in existing library'.format(len(seen_episodes)))"
   ]
  },
  {
   "cell_type": "code",
   "execution_count": null,
   "metadata": {
    "_kg_hide-input": true,
    "_kg_hide-output": true,
    "tags": []
   },
   "outputs": [],
   "source": [
    "def create_info_json(epid):\n",
    "    \n",
    "    create_seconds = int((episodes_df[episodes_df.index == epid]['CreateTime'].values[0]).item()/1e9)\n",
    "    end_seconds = int((episodes_df[episodes_df.index == epid]['CreateTime'].values[0]).item()/1e9)\n",
    "\n",
    "    agents = []\n",
    "    for index, row in epagents_df[epagents_df['EpisodeId'] == epid].sort_values(by=['Index']).iterrows():\n",
    "        agent = {\n",
    "            \"id\": int(row[\"Id\"]),\n",
    "            \"state\": int(row[\"State\"]),\n",
    "            \"submissionId\": int(row['SubmissionId']),\n",
    "            \"reward\": int(row['Reward']),\n",
    "            \"index\": int(row['Index']),\n",
    "            \"initialScore\": float(row['InitialScore']),\n",
    "            \"initialConfidence\": float(row['InitialConfidence']),\n",
    "            \"updatedScore\": float(row['UpdatedScore']),\n",
    "            \"updatedConfidence\": float(row['UpdatedConfidence']),\n",
    "            \"teamId\": int(99999)\n",
    "        }\n",
    "        agents.append(agent)\n",
    "\n",
    "    info = {\n",
    "        \"id\": int(epid),\n",
    "        \"competitionId\": int(COMPETITIONS[COMP]),\n",
    "        \"createTime\": {\n",
    "            \"seconds\": int(create_seconds)\n",
    "        },\n",
    "        \"endTime\": {\n",
    "            \"seconds\": int(end_seconds)\n",
    "        },\n",
    "        \"agents\": agents\n",
    "    }\n",
    "\n",
    "    return info"
   ]
  },
  {
   "cell_type": "code",
   "execution_count": null,
   "metadata": {
    "_kg_hide-input": true,
    "_kg_hide-output": true,
    "tags": []
   },
   "outputs": [],
   "source": [
    "def saveEpisode(epid):\n",
    "    # request\n",
    "    re = requests.post(get_url, json = {\"EpisodeId\": int(epid)})\n",
    "        \n",
    "    # save replay\n",
    "    with open(MATCH_DIR + '{}.json'.format(epid), 'w') as f:\n",
    "        f.write(re.json()['result']['replay'])\n",
    "\n",
    "    # save match info\n",
    "    # info = create_info_json(epid)\n",
    "    # with open(MATCH_DIR +  '{}_info.json'.format(epid), 'w') as f:\n",
    "    #     json.dump(info, f)\n"
   ]
  },
  {
   "cell_type": "code",
   "execution_count": null,
   "metadata": {
    "_kg_hide-input": true,
    "tags": []
   },
   "outputs": [],
   "source": [
    "r = BUFFER;\n",
    "\n",
    "start_time = datetime.datetime.now()\n",
    "se=0\n",
    "for key, value in sorted(sub_to_score_top.items(), key=lambda kv: kv[1], reverse=True):\n",
    "    if num_api_calls_today<=MAX_CALLS_PER_DAY:\n",
    "        print('')\n",
    "        remaining = sorted(np.setdiff1d(sub_to_episodes[key],seen_episodes), reverse=True)\n",
    "        print(f'submission={key}, LB={\"{:.0f}\".format(value)}, matches={len(set(sub_to_episodes[key]))}, still to save={len(remaining)}')\n",
    "        \n",
    "        for epid in remaining:\n",
    "            if epid not in seen_episodes and num_api_calls_today<=MAX_CALLS_PER_DAY:\n",
    "                saveEpisode(epid); \n",
    "                r+=1;\n",
    "                se+=1\n",
    "                try:\n",
    "                    size = os.path.getsize(MATCH_DIR+'{}.json'.format(epid)) / 1e6\n",
    "                    print(str(num_api_calls_today) + f': saved episode #{epid}')\n",
    "                    seen_episodes.append(epid)\n",
    "                    num_api_calls_today+=1\n",
    "                except:\n",
    "                    print('  file {}.json did not seem to save'.format(epid))    \n",
    "                if r > (datetime.datetime.now() - start_time).seconds:\n",
    "                    time.sleep( r - (datetime.datetime.now() - start_time).seconds)\n",
    "            if num_api_calls_today>(min(3600,MAX_CALLS_PER_DAY)):\n",
    "                print(f\"Calls today {num_api_calls_today}\")\n",
    "                break\n",
    "print('')\n",
    "print(f'Episodes saved: {se}')"
   ]
  },
  {
   "cell_type": "code",
   "execution_count": null,
   "metadata": {},
   "outputs": [],
   "source": []
  }
 ],
 "metadata": {
  "kernelspec": {
   "display_name": "Python 3",
   "language": "python",
   "name": "python3"
  },
  "language_info": {
   "codemirror_mode": {
    "name": "ipython",
    "version": 3
   },
   "file_extension": ".py",
   "mimetype": "text/x-python",
   "name": "python",
   "nbconvert_exporter": "python",
   "pygments_lexer": "ipython3",
   "version": "3.8.11"
  }
 },
 "nbformat": 4,
 "nbformat_minor": 4
}
